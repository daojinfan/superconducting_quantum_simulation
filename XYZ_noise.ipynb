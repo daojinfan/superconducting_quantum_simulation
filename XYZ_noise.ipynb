{
 "cells": [
  {
   "cell_type": "markdown",
   "metadata": {},
   "source": [
    "# import"
   ]
  },
  {
   "cell_type": "code",
   "execution_count": 1,
   "metadata": {},
   "outputs": [],
   "source": [
    "import math\n",
    "import matplotlib.pyplot as plt\n",
    "from SuperConductingSimulationEnergy import *"
   ]
  },
  {
   "cell_type": "markdown",
   "metadata": {},
   "source": [
    "# XYnoise & XYlength 通过互感计算"
   ]
  },
  {
   "cell_type": "code",
   "execution_count": 2,
   "metadata": {},
   "outputs": [
    {
     "name": "stdout",
     "output_type": "stream",
     "text": [
      "f01: (5.01441557954826+0j) anharmonic: 0.21996864535158792\n",
      "\n",
      "Temp after 300 k = -173.21 dBm , 345.83978 K and S_w_v = 9.541866808308657e-19 V**2/Hz\n",
      "Temp after 50 k = -175.96 dBm , 183.677 K and S_w_v = 5.066174307413873e-19 V**2/Hz\n",
      "Temp after 4 k = -189.6 dBm , 8.06026 K and S_w_v = 2.191682185692534e-20 V**2/Hz\n",
      "Temp after 0.9 k = -191.87 dBm , 4.82755 K and S_w_v = 1.2995619997404674e-20 V**2/Hz\n",
      "Temp after 0.1 k = -191.87 dBm , 4.82755 K and S_w_v = 1.2995619997404674e-20 V**2/Hz\n",
      "Temp after 0.015 k = -217.87 dBm , 0.07847 K and S_w_v = 3.264359606516789e-23 V**2/Hz\n",
      "p_th:0.0023711400898049112\n",
      "X/2 length:29.591190476660575 ns\n"
     ]
    },
    {
     "name": "stderr",
     "output_type": "stream",
     "text": [
      "/Users/fandaojin/Documents/Codes/python/superconducting_quantum_simulation/SuperConductingSimulationEnergy.py:129: ComplexWarning: Casting complex values to real discards the imaginary part\n",
      "  M_out[ii * N2 * N12: (ii + 1) * N2 * N12,\n"
     ]
    }
   ],
   "source": [
    "#%% XYnoise & XYlength 通过互感计算\n",
    "att_line = [2.21+11.2*0.6+4, 3.45, 3.46, 2.61, 0, 0] # 线上衰减\n",
    "att_list = [0, 0, 13, 0, 0, 26] #衰减器+滤波器\n",
    "att_list = [a1+a2 for a1,a2 in zip(att_line,att_list)]\n",
    "Mx = 0.3e-12 # XY 互感\n",
    "g = cal_g_by_Mx(Mx) #通过互感计算g\n",
    "# print(f'gv: {g:.5e}')\n",
    "p_th = cal_p_thermal_by_g(\n",
    "        base_temp = 1.2e3, #初始信号噪声 \n",
    "        g=g, \n",
    "        f=5e9, # 比特频率\n",
    "        gamma_T1=1/70e-6, # T1\n",
    "        att_list = att_list,#各层衰减器\n",
    "        t0_list = [300,50, 4,0.9,0.1,0.015] #各层温度\n",
    "        )\n",
    "\n",
    "print(f'p_th:{p_th}')\n",
    "xy_length = cal_XY_length_by_g(\n",
    "        xy_dBm = -7,\n",
    "        xy_amp_percent = 0.6, #X/2门幅度\n",
    "        f=5e9, # 比特频率\n",
    "        att_list = att_list,#各层衰减器\n",
    "        g_v=g,#比特XY线互感\n",
    "        )\n",
    "print(f'X/2 length:{xy_length} ns')"
   ]
  },
  {
   "cell_type": "markdown",
   "metadata": {},
   "source": [
    "# Z noise & max_phi0通过互感计算 qubit"
   ]
  },
  {
   "cell_type": "code",
   "execution_count": 3,
   "metadata": {},
   "outputs": [
    {
     "name": "stdout",
     "output_type": "stream",
     "text": [
      "Temp after 300 k = -168.98 dBm , 917.03178 K and S_w_v = 2.5306765684641585e-18 V**2/Hz\n",
      "Temp after 50 k = -170.59 dBm , 632.15018 K and S_w_v = 1.7444033644832337e-18 V**2/Hz\n",
      "Temp after 4 k = -184.61 dBm , 25.18768 K and S_w_v = 6.918736481502939e-20 V**2/Hz\n",
      "Temp after 0.9 k = -185.86 dBm , 18.90597 K and S_w_v = 5.185002461388499e-20 V**2/Hz\n",
      "Temp after 0.1 k = -185.86 dBm , 18.90597 K and S_w_v = 5.185002461388499e-20 V**2/Hz\n",
      "Temp after 0.015 k = -185.86 dBm , 18.90597 K and S_w_v = 5.185002461388499e-20 V**2/Hz\n",
      "Current:0.17306149182325128 mA\n",
      "Tphi1:0.39788382955206264 ms\n",
      "max_Current:0.21312187860325874mA\n",
      "num_phi0:0.18559234711459396 f01_max_detune:0.4575740537251749\n"
     ]
    }
   ],
   "source": [
    "#%% Z noise & max_phi0通过互感计算 qubit\n",
    "att_line = [1+6+1.6+10,1.73,1.72,1.3,0,0] #室温加10dB可调衰减器\n",
    "att_list = [0,0,13,0,0,0]\n",
    "att_list = [a1+a2 for a1,a2 in zip(att_line,att_list)]\n",
    "att_all = sum(att_list)\n",
    "M_q  = 0.9e-12\n",
    "Tphi1 = cal_Tphi1(\n",
    "        base_temp = 4.5e4,\n",
    "        f01_max=5.3e9,#比特最大频率\n",
    "        f01=5e9, #比特idle频率\n",
    "        # M_q=1.07e-12,#比特Z线互感,\n",
    "        M_q = M_q,\n",
    "        att_list = att_list,\n",
    "        t0_list = [300,50,4,0.9,0.1,0.015],\n",
    "        )\n",
    "print(f'Tphi1:{Tphi1*1e3} ms')\n",
    "\n",
    "phi,f01_max_detune = cal_phi_by_Mq(\n",
    "        f01_max=5.3e9,\n",
    "        M_q=M_q,\n",
    "        att_list = att_list,\n",
    "        Z_amplitude = 0.7, #电子学最大输出\n",
    "        )\n",
    "print(f'num_phi0:{phi}',f'f01_max_detune:{f01_max_detune/1e9}')"
   ]
  },
  {
   "cell_type": "markdown",
   "metadata": {},
   "source": [
    "# Z noise & max_phi0通过互感计算 coupler"
   ]
  },
  {
   "cell_type": "code",
   "execution_count": 4,
   "metadata": {},
   "outputs": [
    {
     "name": "stdout",
     "output_type": "stream",
     "text": [
      "Temp after 300 k = -164.2 dBm , 2756.44775 K and S_w_v = 7.607216284218072e-18 V**2/Hz\n",
      "Temp after 50 k = -165.89 dBm , 1867.1872 K and S_w_v = 5.15285717741648e-18 V**2/Hz\n",
      "Temp after 4 k = -180.36 dBm , 66.84627 K and S_w_v = 1.8391679759096698e-19 V**2/Hz\n",
      "Temp after 0.9 k = -181.65 dBm , 49.79072 K and S_w_v = 1.3684369314267477e-19 V**2/Hz\n",
      "Temp after 0.1 k = -181.65 dBm , 49.79072 K and S_w_v = 1.3684369314267477e-19 V**2/Hz\n",
      "Temp after 0.015 k = -181.65 dBm , 49.79072 K and S_w_v = 1.3684369314267477e-19 V**2/Hz\n",
      "Current:0.2402324919342393 mA\n",
      "Tphi1:0.02169880300968022 ms\n",
      "-----------------------\n",
      "max_Current:0.42523405287245464mA\n",
      "num_phi0:0.3703054161443727 f01_max_detune:3.6435213803043593\n"
     ]
    }
   ],
   "source": [
    "#%% Z noise & max_phi0通过互感计算 coupler\n",
    "att_line = [1+6+1.6+4,1.73,1.72,1.3,0,0] #室温加4dB可调衰减器\n",
    "att_list = [0,0,13,0,0,0]\n",
    "att_list = [a1+a2 for a1,a2 in zip(att_line,att_list)]\n",
    "att_all = sum(att_list)\n",
    "M_q  = 0.9e-12\n",
    "f01_max = 9.834e9\n",
    "f01=6.796e9, #coupler=1.22us->qubit=1ms, 比特idle频率,8.75e9, \n",
    "f01 = 8.75e9\n",
    "Tphi1 = cal_Tphi1(\n",
    "        base_temp = 4.5e4,\n",
    "        f01_max=f01_max,#比特最大频率\n",
    "        f01=f01, #coupler=1.22us->qubit=1ms, 比特idle频率,8.75e9, \n",
    "        # M_q=1.07e-12,#比特Z线互感,\n",
    "        M_q = M_q,\n",
    "        att_list = att_list,\n",
    "        t0_list = [300,50,4,0.9,0.1,0.015],\n",
    "        )\n",
    "print(f'Tphi1:{Tphi1*1e3} ms')\n",
    "print(f'-----------------------')\n",
    "phi,f01_max_detune = cal_phi_by_Mq(\n",
    "        f01_max=f01_max,\n",
    "        M_q=M_q,\n",
    "        att_list = att_list,\n",
    "        Z_amplitude = 0.7, #电子学最大输出\n",
    "        )\n",
    "print(f'num_phi0:{phi}',f'f01_max_detune:{f01_max_detune/1e9}')"
   ]
  }
 ],
 "metadata": {
  "kernelspec": {
   "display_name": "base",
   "language": "python",
   "name": "python3"
  },
  "language_info": {
   "codemirror_mode": {
    "name": "ipython",
    "version": 3
   },
   "file_extension": ".py",
   "mimetype": "text/x-python",
   "name": "python",
   "nbconvert_exporter": "python",
   "pygments_lexer": "ipython3",
   "version": "3.8.3"
  }
 },
 "nbformat": 4,
 "nbformat_minor": 2
}
